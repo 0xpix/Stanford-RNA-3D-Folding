{
 "cells": [
  {
   "cell_type": "markdown",
   "metadata": {},
   "source": [
    "# Stanford RNA 3D Folding Competition Notebook\n",
    "\n",
    "This notebook is designed for the \"Stanford RNA 3D Folding\" Kaggle competition.\n",
    "It covers:\n",
    "\n",
    "1. Data Exploration\n",
    "2. Data Preprocessing\n",
    "   - Sequence encoding\n",
    "   - Label grouping and padding (with NaN handling)\n",
    "3. Model Building using a fast CNN architecture\n",
    "4. Model Training with early stopping\n",
    "5. Prediction on test set and submission file generation\n",
    "\n",
    "_Note: This notebook uses only the provided CSV files (no external internet access)._"
   ]
  },
  {
   "cell_type": "code",
   "execution_count": 2,
   "metadata": {},
   "outputs": [],
   "source": [
    "import os\n",
    "import numpy as np\n",
    "import pandas as pd\n",
    "import matplotlib.pyplot as plt\n",
    "import seaborn as sns"
   ]
  },
  {
   "cell_type": "markdown",
   "metadata": {},
   "source": [
    "## 2. Data Loading and Exploration\n",
    "\n",
    "We load the CSV files provided in the competition:\n",
    "- `train_sequences.csv`\n",
    "- `train_labels.csv`\n",
    "- `validation_sequences.csv` & `validation_labels.csv`\n",
    "- `test_sequences.csv`\n",
    "- `sample_submission.csv`\n",
    "\n",
    "**Important:** We fill missing values in the labels data with 0 to avoid NaN issues during training."
   ]
  },
  {
   "cell_type": "markdown",
   "metadata": {},
   "source": [
    "### 📄 **[train/validation/test]_sequences.csv** (RNA sequences dataset)\n",
    "\n",
    "1. **`target_id`** (string) – A unique ID for the RNA sequence.\n",
    "   - 📝 **Example:** `\"4YBB_A\"`\n",
    "   - 🔍 **Meaning:** `\"4YBB\"` is an entry in the Protein Data Bank (PDB), and `\"A\"` is the chain ID.\n",
    "\n",
    "2. **`sequence`** (string) – The actual RNA sequence (nucleotide bases).\n",
    "   - 📝 **Example:** `\"AUGCGUACG\"`\n",
    "   - 🔍 **Meaning:** The RNA molecule consists of the bases A (Adenine), U (Uracil), G (Guanine), and C (Cytosine). \n",
    "\n",
    "3. **`temporal_cutoff`** (string) – The date when the sequence was published.\n",
    "   - 📝 **Example:** `\"2022-05-10\"`\n",
    "   - 🔍 **Meaning:** This RNA sequence was made publicly available on May 10, 2022.\n",
    "\n",
    "4. **`description`** (string) – Extra details about the RNA's origin.\n",
    "   - 📝 **Example:** `\"Ribosomal RNA with a small molecule ligand bound\"`\n",
    "   - 🔍 **Meaning:** This RNA is part of the ribosome and has a small molecule attached.\n",
    "\n",
    "5. **`all_sequences`** (string) – FASTA-formatted sequences of all molecular chains in the experimental structure.\n",
    "   - 📝 **Example:**\n",
    "     ```\n",
    "     >Chain A\n",
    "     AUGCGUACG\n",
    "     >Chain B\n",
    "     CCGGAUAGU\n",
    "     ```\n",
    "   - 🔍 **Meaning:** The experimental structure contains multiple chains of RNA (A and B).\n",
    "\n",
    "---\n",
    "\n",
    "### 📄 **[train/validation]_labels.csv** (RNA structure dataset)\n",
    "\n",
    "1. **`ID`** (string) – A unique identifier for each RNA residue.\n",
    "   - 📝 **Example:** `\"4YBB_A_1\"`\n",
    "   - 🔍 **Meaning:** Residue **1** of chain **A** in the RNA structure from PDB entry `\"4YBB\"`.\n",
    "\n",
    "2. **`resname`** (character) – The nucleotide at this position.\n",
    "   - 📝 **Example:** `\"A\"`\n",
    "   - 🔍 **Meaning:** This RNA residue is **Adenine (A)**.\n",
    "\n",
    "3. **`resid`** (integer) – The residue number (position in the sequence).\n",
    "   - 📝 **Example:** `1`\n",
    "   - 🔍 **Meaning:** This is the **first** nucleotide in the RNA sequence.\n",
    "\n",
    "4. **`x_1,y_1,z_1,x_2,y_2,z_2,…`** (float) – 3D coordinates (Angstroms) of the RNA structure.\n",
    "   - 📝 **Example:**\n",
    "     ```\n",
    "     12.345, 34.567, 45.678, 13.456, 35.678, 46.789\n",
    "     ```\n",
    "   - 🔍 **Meaning:** The **C1' atom** of this nucleotide has been captured in two experimental conformations.\n",
    "\n",
    "---\n",
    "\n",
    "### 📄 **sample_submission.csv** (Predicted RNA structure)\n",
    "\n",
    "- The same format as `train_labels.csv`, but you must provide **five** predicted 3D structures.\n",
    "- Instead of `x_1,y_1,z_1,...`, you need:\n",
    "  ```\n",
    "  x_1,y_1,z_1, x_2,y_2,z_2, ..., x_5,y_5,z_5\n",
    "  ```\n",
    "- Each row should contain **five possible structures** for the same RNA sequence.\n",
    "\n",
    "---\n",
    "\n",
    "### **Simplified Summary:**\n",
    "- `sequences.csv` contains **RNA sequences** and metadata.\n",
    "- `labels.csv` provides **experimental 3D coordinates** of RNA residues.\n",
    "- `sample_submission.csv` is where you submit **five predicted 3D structures** for each sequence."
   ]
  },
  {
   "cell_type": "code",
   "execution_count": 70,
   "metadata": {},
   "outputs": [],
   "source": [
    "# Define file paths (Kaggle input paths)\n",
    "TRAIN_SEQ_PATH = '../data/raw/train_sequences.csv'\n",
    "TRAIN_LABELS_PATH = '../data/raw/train_labels.csv'\n",
    "VALID_SEQ_PATH = '../data/raw/validation_sequences.csv'\n",
    "VALID_LABELS_PATH = '../data/raw/validation_labels.csv'\n",
    "TEST_SEQ_PATH  = '../data/raw/test_sequences.csv'\n",
    "SAMPLE_SUB_PATH = '../data/raw/sample_submission.csv'\n",
    "\n",
    "# Load CSV files\n",
    "train_sequences = pd.read_csv(TRAIN_SEQ_PATH)\n",
    "train_labels = pd.read_csv(TRAIN_LABELS_PATH)\n",
    "valid_sequences = pd.read_csv(VALID_SEQ_PATH)\n",
    "valid_labels = pd.read_csv(VALID_LABELS_PATH)\n",
    "test_sequences = pd.read_csv(TEST_SEQ_PATH)\n",
    "sample_submission = pd.read_csv(SAMPLE_SUB_PATH)\n",
    "\n",
    "# Fill missing values in labels with 0\n",
    "train_labels.fillna(0, inplace=True)\n",
    "valid_labels.fillna(0, inplace=True)"
   ]
  },
  {
   "cell_type": "code",
   "execution_count": 71,
   "metadata": {},
   "outputs": [
    {
     "name": "stdout",
     "output_type": "stream",
     "text": [
      "Train sequences shape: (844, 5)\n",
      "Train labels shape: (137095, 6)\n",
      "Valid sequences shape: (12, 5)\n",
      "Valid labels shape: (2515, 123)\n",
      "Test sequences shape: (12, 5)\n",
      "Sample submission shape: (2515, 18)\n"
     ]
    }
   ],
   "source": [
    "print('Train sequences shape:', train_sequences.shape)\n",
    "print('Train labels shape:', train_labels.shape)\n",
    "print('Valid sequences shape:', valid_sequences.shape)\n",
    "print('Valid labels shape:', valid_labels.shape)\n",
    "print('Test sequences shape:', test_sequences.shape)\n",
    "print('Sample submission shape:', sample_submission.shape)"
   ]
  },
  {
   "cell_type": "code",
   "execution_count": 72,
   "metadata": {},
   "outputs": [
    {
     "name": "stdout",
     "output_type": "stream",
     "text": [
      "<class 'pandas.core.frame.DataFrame'>\n",
      "RangeIndex: 844 entries, 0 to 843\n",
      "Data columns (total 5 columns):\n",
      " #   Column           Non-Null Count  Dtype \n",
      "---  ------           --------------  ----- \n",
      " 0   target_id        844 non-null    object\n",
      " 1   sequence         844 non-null    object\n",
      " 2   temporal_cutoff  844 non-null    object\n",
      " 3   description      844 non-null    object\n",
      " 4   all_sequences    839 non-null    object\n",
      "dtypes: object(5)\n",
      "memory usage: 33.1+ KB\n"
     ]
    }
   ],
   "source": [
    "train_sequences.info()"
   ]
  },
  {
   "cell_type": "code",
   "execution_count": 73,
   "metadata": {},
   "outputs": [
    {
     "name": "stdout",
     "output_type": "stream",
     "text": [
      "<class 'pandas.core.frame.DataFrame'>\n",
      "RangeIndex: 137095 entries, 0 to 137094\n",
      "Data columns (total 6 columns):\n",
      " #   Column   Non-Null Count   Dtype  \n",
      "---  ------   --------------   -----  \n",
      " 0   ID       137095 non-null  object \n",
      " 1   resname  137095 non-null  object \n",
      " 2   resid    137095 non-null  int64  \n",
      " 3   x_1      137095 non-null  float64\n",
      " 4   y_1      137095 non-null  float64\n",
      " 5   z_1      137095 non-null  float64\n",
      "dtypes: float64(3), int64(1), object(2)\n",
      "memory usage: 6.3+ MB\n"
     ]
    }
   ],
   "source": [
    "train_labels.info()"
   ]
  },
  {
   "cell_type": "code",
   "execution_count": 74,
   "metadata": {},
   "outputs": [
    {
     "data": {
      "text/html": [
       "<div>\n",
       "<style scoped>\n",
       "    .dataframe tbody tr th:only-of-type {\n",
       "        vertical-align: middle;\n",
       "    }\n",
       "\n",
       "    .dataframe tbody tr th {\n",
       "        vertical-align: top;\n",
       "    }\n",
       "\n",
       "    .dataframe thead th {\n",
       "        text-align: right;\n",
       "    }\n",
       "</style>\n",
       "<table border=\"1\" class=\"dataframe\">\n",
       "  <thead>\n",
       "    <tr style=\"text-align: right;\">\n",
       "      <th></th>\n",
       "      <th>target_id</th>\n",
       "      <th>sequence</th>\n",
       "      <th>temporal_cutoff</th>\n",
       "      <th>description</th>\n",
       "      <th>all_sequences</th>\n",
       "    </tr>\n",
       "  </thead>\n",
       "  <tbody>\n",
       "    <tr>\n",
       "      <th>0</th>\n",
       "      <td>1SCL_A</td>\n",
       "      <td>GGGUGCUCAGUACGAGAGGAACCGCACCC</td>\n",
       "      <td>1995-01-26</td>\n",
       "      <td>THE SARCIN-RICIN LOOP, A MODULAR RNA</td>\n",
       "      <td>&gt;1SCL_1|Chain A|RNA SARCIN-RICIN LOOP|Rattus n...</td>\n",
       "    </tr>\n",
       "    <tr>\n",
       "      <th>1</th>\n",
       "      <td>1RNK_A</td>\n",
       "      <td>GGCGCAGUGGGCUAGCGCCACUCAAAAGGCCCAU</td>\n",
       "      <td>1995-02-27</td>\n",
       "      <td>THE STRUCTURE OF AN RNA PSEUDOKNOT THAT CAUSES...</td>\n",
       "      <td>&gt;1RNK_1|Chain A|RNA PSEUDOKNOT|null\\nGGCGCAGUG...</td>\n",
       "    </tr>\n",
       "    <tr>\n",
       "      <th>2</th>\n",
       "      <td>1RHT_A</td>\n",
       "      <td>GGGACUGACGAUCACGCAGUCUAU</td>\n",
       "      <td>1995-06-03</td>\n",
       "      <td>24-MER RNA HAIRPIN COAT PROTEIN BINDING SITE F...</td>\n",
       "      <td>&gt;1RHT_1|Chain A|RNA (5'-R(P*GP*GP*GP*AP*CP*UP*...</td>\n",
       "    </tr>\n",
       "    <tr>\n",
       "      <th>3</th>\n",
       "      <td>1HLX_A</td>\n",
       "      <td>GGGAUAACUUCGGUUGUCCC</td>\n",
       "      <td>1995-09-15</td>\n",
       "      <td>P1 HELIX NUCLEIC ACIDS (DNA/RNA) RIBONUCLEIC ACID</td>\n",
       "      <td>&gt;1HLX_1|Chain A|RNA (5'-R(*GP*GP*GP*AP*UP*AP*A...</td>\n",
       "    </tr>\n",
       "    <tr>\n",
       "      <th>4</th>\n",
       "      <td>1HMH_E</td>\n",
       "      <td>GGCGACCCUGAUGAGGCCGAAAGGCCGAAACCGU</td>\n",
       "      <td>1995-12-07</td>\n",
       "      <td>THREE-DIMENSIONAL STRUCTURE OF A HAMMERHEAD RI...</td>\n",
       "      <td>&gt;1HMH_1|Chains A, C, E|HAMMERHEAD RIBOZYME-RNA...</td>\n",
       "    </tr>\n",
       "    <tr>\n",
       "      <th>5</th>\n",
       "      <td>1RNG_A</td>\n",
       "      <td>GGCGCUUGCGUC</td>\n",
       "      <td>1995-12-07</td>\n",
       "      <td>SOLUTION STRUCTURE OF THE CUUG HAIRPIN: A NOVE...</td>\n",
       "      <td>&gt;1RNG_1|Chain A|RNA (5'-R(*GP*GP*CP*GP*CP*UP*U...</td>\n",
       "    </tr>\n",
       "    <tr>\n",
       "      <th>6</th>\n",
       "      <td>1MME_D</td>\n",
       "      <td>GGCCGAAACUCGUAAGAGUCACCAC</td>\n",
       "      <td>1996-02-06</td>\n",
       "      <td>THE CRYSTAL STRUCTURE OF AN ALL-RNA HAMMERHEAD...</td>\n",
       "      <td>&gt;1MME_1|Chains A, C|RNA HAMMERHEAD RIBOZYME|\\n...</td>\n",
       "    </tr>\n",
       "    <tr>\n",
       "      <th>7</th>\n",
       "      <td>1KAJ_A</td>\n",
       "      <td>GGCGCAGUGGGCUAGCGCCACUCAAAAGCCCG</td>\n",
       "      <td>1996-07-11</td>\n",
       "      <td>CONFORMATION OF AN RNA PSEUDOKNOT FROM MOUSE M...</td>\n",
       "      <td>&gt;1KAJ_1|Chain A|RNA PSEUDOKNOT APK|\\nGGCGCAGUG...</td>\n",
       "    </tr>\n",
       "    <tr>\n",
       "      <th>8</th>\n",
       "      <td>1SLO_A</td>\n",
       "      <td>UUACCCAAGUUUGAGGUAA</td>\n",
       "      <td>1996-12-07</td>\n",
       "      <td>FIRST STEM LOOP OF THE SL1 RNA FROM CAENORHABD...</td>\n",
       "      <td>&gt;1SLO_1|Chain A|RNA (5'-R(*UP*UP*AP*CP*CP*CP*A...</td>\n",
       "    </tr>\n",
       "    <tr>\n",
       "      <th>9</th>\n",
       "      <td>1BIV_A</td>\n",
       "      <td>GGCUCGUGUAGCUCAUUAGCUCCGAGCC</td>\n",
       "      <td>1996-12-23</td>\n",
       "      <td>BOVINE IMMUNODEFICIENCY VIRUS TAT-TAR COMPLEX,...</td>\n",
       "      <td>&gt;1BIV_1|Chain A|TAR RNA|synthetic construct (3...</td>\n",
       "    </tr>\n",
       "  </tbody>\n",
       "</table>\n",
       "</div>"
      ],
      "text/plain": [
       "  target_id                            sequence temporal_cutoff  \\\n",
       "0    1SCL_A       GGGUGCUCAGUACGAGAGGAACCGCACCC      1995-01-26   \n",
       "1    1RNK_A  GGCGCAGUGGGCUAGCGCCACUCAAAAGGCCCAU      1995-02-27   \n",
       "2    1RHT_A            GGGACUGACGAUCACGCAGUCUAU      1995-06-03   \n",
       "3    1HLX_A                GGGAUAACUUCGGUUGUCCC      1995-09-15   \n",
       "4    1HMH_E  GGCGACCCUGAUGAGGCCGAAAGGCCGAAACCGU      1995-12-07   \n",
       "5    1RNG_A                        GGCGCUUGCGUC      1995-12-07   \n",
       "6    1MME_D           GGCCGAAACUCGUAAGAGUCACCAC      1996-02-06   \n",
       "7    1KAJ_A    GGCGCAGUGGGCUAGCGCCACUCAAAAGCCCG      1996-07-11   \n",
       "8    1SLO_A                 UUACCCAAGUUUGAGGUAA      1996-12-07   \n",
       "9    1BIV_A        GGCUCGUGUAGCUCAUUAGCUCCGAGCC      1996-12-23   \n",
       "\n",
       "                                         description  \\\n",
       "0               THE SARCIN-RICIN LOOP, A MODULAR RNA   \n",
       "1  THE STRUCTURE OF AN RNA PSEUDOKNOT THAT CAUSES...   \n",
       "2  24-MER RNA HAIRPIN COAT PROTEIN BINDING SITE F...   \n",
       "3  P1 HELIX NUCLEIC ACIDS (DNA/RNA) RIBONUCLEIC ACID   \n",
       "4  THREE-DIMENSIONAL STRUCTURE OF A HAMMERHEAD RI...   \n",
       "5  SOLUTION STRUCTURE OF THE CUUG HAIRPIN: A NOVE...   \n",
       "6  THE CRYSTAL STRUCTURE OF AN ALL-RNA HAMMERHEAD...   \n",
       "7  CONFORMATION OF AN RNA PSEUDOKNOT FROM MOUSE M...   \n",
       "8  FIRST STEM LOOP OF THE SL1 RNA FROM CAENORHABD...   \n",
       "9  BOVINE IMMUNODEFICIENCY VIRUS TAT-TAR COMPLEX,...   \n",
       "\n",
       "                                       all_sequences  \n",
       "0  >1SCL_1|Chain A|RNA SARCIN-RICIN LOOP|Rattus n...  \n",
       "1  >1RNK_1|Chain A|RNA PSEUDOKNOT|null\\nGGCGCAGUG...  \n",
       "2  >1RHT_1|Chain A|RNA (5'-R(P*GP*GP*GP*AP*CP*UP*...  \n",
       "3  >1HLX_1|Chain A|RNA (5'-R(*GP*GP*GP*AP*UP*AP*A...  \n",
       "4  >1HMH_1|Chains A, C, E|HAMMERHEAD RIBOZYME-RNA...  \n",
       "5  >1RNG_1|Chain A|RNA (5'-R(*GP*GP*CP*GP*CP*UP*U...  \n",
       "6  >1MME_1|Chains A, C|RNA HAMMERHEAD RIBOZYME|\\n...  \n",
       "7  >1KAJ_1|Chain A|RNA PSEUDOKNOT APK|\\nGGCGCAGUG...  \n",
       "8  >1SLO_1|Chain A|RNA (5'-R(*UP*UP*AP*CP*CP*CP*A...  \n",
       "9  >1BIV_1|Chain A|TAR RNA|synthetic construct (3...  "
      ]
     },
     "execution_count": 74,
     "metadata": {},
     "output_type": "execute_result"
    }
   ],
   "source": [
    "train_sequences.head(10)"
   ]
  },
  {
   "cell_type": "code",
   "execution_count": null,
   "metadata": {},
   "outputs": [
    {
     "name": "stdout",
     "output_type": "stream",
     "text": [
      "============================\n",
      "Sequence length statistics:\n",
      "============================\n",
      "\n",
      "Min: 3\n",
      "Max: 4298\n",
      "Mean: 162.43483412322274\n",
      "Median: 39.5\n"
     ]
    }
   ],
   "source": [
    "# Sequence length statistics:\n",
    "sequence_length = train_sequences.sequence.apply(lambda x: len(x))\n",
    "\n",
    "print(\"============================\")\n",
    "print('Sequence length statistics:')\n",
    "print(\"============================\\n\")\n",
    "\n",
    "print('Min:', sequence_length.min())\n",
    "print('Max:', sequence_length.max())\n",
    "print('Mean:', sequence_length.mean())\n",
    "print('Median:', sequence_length.median())"
   ]
  },
  {
   "cell_type": "code",
   "execution_count": 94,
   "metadata": {},
   "outputs": [
    {
     "data": {
      "text/plain": [
       "sequence\n",
       "{G, A, C, U}       815\n",
       "{G, A, C}           10\n",
       "{G, C, U}            6\n",
       "{U}                  3\n",
       "{A}                  2\n",
       "{A, U}               2\n",
       "{U, A, -, C, G}      2\n",
       "{U, A, X, C, G}      2\n",
       "{G, C}               1\n",
       "{G, A}               1\n",
       "Name: count, dtype: int64"
      ]
     },
     "execution_count": 94,
     "metadata": {},
     "output_type": "execute_result"
    }
   ],
   "source": [
    "# Check every sequence if it contains onlt A, C, G, U\n",
    "RNA_sequence = {\n",
    "    'A': \"Adenine\",\n",
    "    'C': \"Cytosine\",\n",
    "    'G': \"Guanine\",\n",
    "    'U': \"Uracil\",\n",
    "    '-': \"Missing\",\n",
    "    'X': \"Unknown\"\n",
    "}\n",
    "\n",
    "sequence_count = train_sequences['sequence'].apply(lambda x: set(x)).value_counts()\n",
    "sequence_count"
   ]
  },
  {
   "cell_type": "code",
   "execution_count": 69,
   "metadata": {},
   "outputs": [
    {
     "name": "stdout",
     "output_type": "stream",
     "text": [
      "the Majority of the sequences are composed of Adenine, Cytosine, Guanine, Uracil with 815 sequences.\n"
     ]
    }
   ],
   "source": [
    "print(f\"the Majority of the sequences are composed of {', '.join(RNA_sequence.values())} with {sequence_count.values[0]} sequences.\")"
   ]
  },
  {
   "cell_type": "code",
   "execution_count": 100,
   "metadata": {},
   "outputs": [
    {
     "name": "stdout",
     "output_type": "stream",
     "text": [
      "========================\n",
      "Nucleotide distribution:\n",
      "========================\n",
      "\n",
      "There are 41450 Guanine (G) nucleotides in the sequences.\n",
      "There are 33937 Cytosine (C) nucleotides in the sequences.\n",
      "There are 32524 Adenine (A) nucleotides in the sequences.\n",
      "There are 29178 Uracil (U) nucleotides in the sequences.\n",
      "There are 4 Missing (-) nucleotides in the sequences.\n",
      "There are 2 Unknown (X) nucleotides in the sequences.\n"
     ]
    }
   ],
   "source": [
    "# Nucleotide distribution:\n",
    "nucleotides = train_sequences['sequence'].apply(lambda x: pd.Series(list(x)))\n",
    "nucleotides = nucleotides.stack().value_counts()\n",
    "\n",
    "print(\"========================\")\n",
    "print(\"Nucleotide distribution:\")\n",
    "print(\"========================\\n\")\n",
    "for k, v in nucleotides.items():\n",
    "    print(f\"There are {v} {RNA_sequence[k]} ({k}) nucleotides in the sequences.\")"
   ]
  }
 ],
 "metadata": {
  "kernelspec": {
   "display_name": "AI",
   "language": "python",
   "name": "python3"
  },
  "language_info": {
   "codemirror_mode": {
    "name": "ipython",
    "version": 3
   },
   "file_extension": ".py",
   "mimetype": "text/x-python",
   "name": "python",
   "nbconvert_exporter": "python",
   "pygments_lexer": "ipython3",
   "version": "3.12.7"
  }
 },
 "nbformat": 4,
 "nbformat_minor": 2
}
